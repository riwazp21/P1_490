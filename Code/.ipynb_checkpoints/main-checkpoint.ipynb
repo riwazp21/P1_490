{
 "cells": [
  {
   "cell_type": "code",
   "execution_count": 39,
   "id": "ecb49316-c1dc-4e20-a542-7eef2371b78b",
   "metadata": {},
   "outputs": [],
   "source": [
    "#Importing all the modules\n",
    "import pandas\n",
    "import os"
   ]
  },
  {
   "cell_type": "code",
   "execution_count": 40,
   "id": "4023defe-bd85-4adf-9b5a-695b6f0d7173",
   "metadata": {},
   "outputs": [],
   "source": [
    "#First Step\n",
    "#Making a function that will find the gap elements of a single file an return the data\n",
    "def find_gap_ranges(data):\n",
    "    gap_ranges = []\n",
    "    prev_chr = None\n",
    "    prev_end = None\n",
    "\n",
    "    for element in data:\n",
    "        chr, positions = element.split(\":\")\n",
    "        chr = chr.replace(\">\",\"\")\n",
    "        start, end = map(int, positions.split(\"-\"))\n",
    "\n",
    "        if prev_chr is None or chr != prev_chr:\n",
    "            prev_chr = chr\n",
    "            prev_end = end\n",
    "        else:\n",
    "            if start - prev_end > 0:\n",
    "                gap_ranges.append((chr, prev_end, start))\n",
    "            prev_end = end\n",
    "\n",
    "    return gap_ranges"
   ]
  },
  {
   "cell_type": "code",
   "execution_count": 41,
   "id": "badd7b36-1900-4eb3-a029-6ee4c7c1dfb0",
   "metadata": {},
   "outputs": [
    {
     "data": {
      "text/plain": [
       "'for txt_file in txt_files:\\n    txt_path = os.path.join(txt_dir,txt_file)\\n    with open(txt_path, \\'r\\') as file:\\n        lines = file.readlines()\\n    odd_position = lines[::2]\\n    gap_ranges = find_gap_ranges(odd_position)\\n    output_file = txt_file.replace(\".txt\",\"_in.bed\")\\n    output_path = os.path.join(output_dir,output_file)\\n    with open(output_path, \"w\") as f:\\n        for chr, start, end in gap_ranges:\\n            f.write(f\"{chr}\\t{start}\\t{end}\\n\")\\n '"
      ]
     },
     "execution_count": 41,
     "metadata": {},
     "output_type": "execute_result"
    }
   ],
   "source": [
    "#Making bed files for inaccessible areas\n",
    "txt_dir = \"/users/rpoudel/490_P1/Bedtools/Access\"\n",
    "output_dir = \"/users/rpoudel/490_P1/Rawfile/NonAccess\"\n",
    "txt_files = [f for f in os.listdir(txt_dir) if f.endswith('.txt')]\n",
    "for txt_file in txt_files:\n",
    "    txt_path = os.path.join(txt_dir,txt_file)\n",
    "    with open(txt_path, 'r') as file:\n",
    "        lines = file.readlines()\n",
    "    odd_position = lines[::2]\n",
    "    gap_ranges = find_gap_ranges(odd_position)\n",
    "    output_file = txt_file.replace(\".txt\",\"_in.bed\")\n",
    "    output_path = os.path.join(output_dir,output_file)\n",
    "    with open(output_path, \"w\") as f:\n",
    "        for chr, start, end in gap_ranges:\n",
    "            f.write(f\"{chr}\\t{start}\\t{end}\\n\")\n",
    "  "
   ]
  },
  {
   "cell_type": "code",
   "execution_count": 44,
   "id": "e9f5c40f-6b74-47c4-84eb-09c0d1372eac",
   "metadata": {},
   "outputs": [],
   "source": [
    "#Cleaning bed files and tranforming into csv files by comparing both accessible and inaccessible areas\n",
    "access_dir = \"/users/rpoudel/490_P1/Bedtools/Access\"\n",
    "non_access_dir = \"/users/rpoudel/490_P1/Bedtools/NonAccess\"\n",
    "access_files = [f for f in os.listdir(txt_dir) if f.endswith('.txt')]\n",
    "\n",
    "for txt_file in access_files:\n",
    "    lines = []\n",
    "    access_lines=[]\n",
    "    non_access_lines = []\n",
    "    access_path = os.path.join(access_dir,txt_file)\n",
    "    \n",
    "    non_access_file = txt_file.replace('.txt','_in.txt')\n",
    "    non_access_path = os.path.join(non_access_dir,non_access_file)\n",
    "    #Reads from access file\n",
    "    with open(access_path,\"r\") as f:\n",
    "        #lines += f.readlines()\n",
    "        access_lines += f.readlines() #separate variable for access files\n",
    "    #reads from non access file\n",
    "    with open(non_access_path,\"r\") as f1:\n",
    "        #lines += f1.readlines()\n",
    "        non_access_lines += f1.readlines() #separate variable for nonaccess files\n",
    "    #finding out the ATGCs of all the combined files\n",
    "    \n",
    "    lines = access_lines + non_access_lines\n",
    "    even_lines = lines[1::2]\n",
    "\n",
    "    #Average from both files floor division\n",
    "    total_chars = sum(len(s) for s in access_lines_even)\n",
    "    total_elements = len(access_lines_even)\n",
    "    \n",
    "    average = total_chars//total_elements\n",
    "\n",
    "    \n",
    "    #Cleanign data for accessed element. Only extracting ATGCs from access and non access files\n",
    "    access_lines_even = access_lines[1::2]\n",
    "    nonaccess_lines_even = non_access_lines[1::2]\n",
    "    \n",
    "    access_chrom_data = []\n",
    "    nonaccess_chrom_data = []\n",
    "    #Extracting average or more than average ATGcs and trimming if the value is higher than the average\n",
    "    \n",
    "    for line in access_lines_even:\n",
    "        if(average <= len(line)):\n",
    "            main_data = line[:average].lower()\n",
    "        \n",
    "            access_chrom_data.append(main_data)\n",
    "\n",
    "\n",
    "    #Doing same for non access files\n",
    "    for line in nonaccess_lines_even:\n",
    "        if(average <=len(line)):\n",
    "            main_data = line[:average].lower()\n",
    "            nonaccess_chrom_data.append(main_data)\n",
    "\n",
    "    #Creating output files and directories\n",
    "    access_output_file = txt_file.replace(\".txt\",\"_output.csv\")\n",
    "    nonaccess_output_file = non_access_file.replace(\".txt\",\"_output.csv\")\n",
    "    \n",
    "    access_output_dir = \"/users/rpoudel/490_P1/Output/Access\"\n",
    "    nonaccess_output_dir = \"/users/rpoudel/490_P1/Output/NonAccess\"\n",
    "    \n",
    "    access_output_path = os.path.join(access_output_dir,access_output_file)\n",
    "    nonaccess_output_path = os.path.join(nonaccess_output_dir, nonaccess_output_file)\n",
    "\n",
    "    #Storing the chromosome data in a file for accessible areas\n",
    "    with open(access_output_path, 'w') as file:\n",
    "        file.write(\"Data\\n\")\n",
    "        for item in access_chrom_data:\n",
    "            file.write(str(item) + \"\\n\")\n",
    "    #Storing the chromosome data in a file for inaccessible areas      \n",
    "    with open(nonaccess_output_path, 'w') as file:\n",
    "        file.write(\"Data\\n\")\n",
    "        for item in nonaccess_chrom_data:\n",
    "            file.write(str(item) + \"\\n\")\n",
    "            \n",
    "        "
   ]
  },
  {
   "cell_type": "code",
   "execution_count": null,
   "id": "5eafa69e-352e-4ba9-9318-abafae65cd3e",
   "metadata": {},
   "outputs": [],
   "source": []
  }
 ],
 "metadata": {
  "kernelspec": {
   "display_name": "Python [conda env:main] *",
   "language": "python",
   "name": "conda-env-main-py"
  },
  "language_info": {
   "codemirror_mode": {
    "name": "ipython",
    "version": 3
   },
   "file_extension": ".py",
   "mimetype": "text/x-python",
   "name": "python",
   "nbconvert_exporter": "python",
   "pygments_lexer": "ipython3",
   "version": "3.9.18"
  }
 },
 "nbformat": 4,
 "nbformat_minor": 5
}
